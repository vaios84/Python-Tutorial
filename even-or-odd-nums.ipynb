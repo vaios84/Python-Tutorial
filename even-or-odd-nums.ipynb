{
 "cells": [
  {
   "cell_type": "code",
   "execution_count": 4,
   "metadata": {},
   "outputs": [
    {
     "name": "stdout",
     "output_type": "stream",
     "text": [
      "List of numbers:\n",
      "[4, 5, 2, 10, 1, 3, 7, 12, 8]\n",
      "even numbers:\n",
      "4\n",
      "2\n",
      "10\n",
      "12\n",
      "8\n",
      "odd numbers:\n",
      "5\n",
      "1\n",
      "3\n",
      "7\n"
     ]
    }
   ],
   "source": [
    "nums = [4, 5, 2 ,10, 1, 3 , 7, 12, 8]\n",
    "\n",
    "print(\"List of numbers:\")\n",
    "print(nums)\n",
    "\n",
    "print(\"even numbers:\")\n",
    "for x in nums:\n",
    "    if x%2 is 0: \n",
    "        print(x)\n",
    "\n",
    "print(\"odd numbers:\")\n",
    "for x in nums:\n",
    "    if x%2 is not 0: \n",
    "        print(x)\n"
   ]
  },
  {
   "cell_type": "code",
   "execution_count": null,
   "metadata": {},
   "outputs": [],
   "source": []
  }
 ],
 "metadata": {
  "kernelspec": {
   "display_name": "Python 3",
   "language": "python",
   "name": "python3"
  },
  "language_info": {
   "codemirror_mode": {
    "name": "ipython",
    "version": 3
   },
   "file_extension": ".py",
   "mimetype": "text/x-python",
   "name": "python",
   "nbconvert_exporter": "python",
   "pygments_lexer": "ipython3",
   "version": "3.6.11"
  }
 },
 "nbformat": 4,
 "nbformat_minor": 2
}
